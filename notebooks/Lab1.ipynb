{
 "cells": [
  {
   "cell_type": "markdown",
   "id": "6b23ca5b-a3f6-4370-b0df-c033b93e0313",
   "metadata": {},
   "source": [
    "# L1. Dead Reckoning "
   ]
  },
  {
   "cell_type": "markdown",
   "id": "ce350074-8201-42b2-b2c6-8bd060551d5b",
   "metadata": {},
   "source": [
    "### Define all the imports"
   ]
  },
  {
   "cell_type": "code",
   "execution_count": null,
   "id": "f60f293c-eee8-4fb0-92a9-cc00a5522cf6",
   "metadata": {},
   "outputs": [],
   "source": [
    "import sys\n",
    "import os\n",
    "import numpy as np\n",
    "import pandas as pd\n",
    "import matplotlib.pyplot as plt\n",
    "import seaborn as sns"
   ]
  },
  {
   "cell_type": "code",
   "execution_count": null,
   "id": "5addecc1-5286-416b-a4af-766649e34064",
   "metadata": {},
   "outputs": [],
   "source": [
    "# Change to main repo folder for the imports\n",
    "_, dir = os.path.split(os.getcwd())\n",
    "if dir == 'notebooks': \n",
    "    os.chdir('..')\n",
    "    sys.path.append(os.getcwd())\n",
    "pd.set_option('mode.chained_assignment', None)"
   ]
  },
  {
   "cell_type": "code",
   "execution_count": null,
   "id": "4825593e-aafb-480a-8e8c-0de32754c55b",
   "metadata": {},
   "outputs": [],
   "source": [
    "from src.localization.dead_reckoning import DeadReckoning"
   ]
  },
  {
   "cell_type": "markdown",
   "id": "e12d05ca-f5da-4601-a7af-e29da7d722df",
   "metadata": {},
   "source": [
    "### Load a dataset"
   ]
  },
  {
   "cell_type": "code",
   "execution_count": null,
   "id": "d5108eaa-c5e1-42e0-8908-fc013c52f09d",
   "metadata": {},
   "outputs": [],
   "source": [
    "# Define dataset to read\n",
    "dataset = \"data/MRCLAM_Dataset2\" # Dataset\n",
    "end_frame = 10000 # Extension of the dataset\n",
    "robot = 'Robot3' # Robot\n",
    "\n",
    "# Build dead reckoning object\n",
    "self = DeadReckoning(dataset, robot, end_frame)\n",
    "self.run()"
   ]
  },
  {
   "cell_type": "markdown",
   "id": "70ca1834-0344-4327-86c3-8769d110292a",
   "metadata": {},
   "source": [
    "### TASK 1. Inspect the dataset\n",
    "The objective of this task is to understand how the control inputs used to estimate the robots localization may differ from the actual robot motion.\n",
    "\n",
    "Go through the following blocks of code while understanding what the different functions do. Add a markdown block after each block of code explaining what its being done, and add titles and legends to the plots to demonstrate your understanding."
   ]
  },
  {
   "cell_type": "code",
   "execution_count": null,
   "id": "d04e9523-46c1-437c-837c-65f0a08d7a1a",
   "metadata": {},
   "outputs": [],
   "source": [
    "# Build dataframes\n",
    "self.build_dataframes()\n",
    "\n",
    "# Represent dataset\n",
    "self.represent_dataset()"
   ]
  },
  {
   "cell_type": "markdown",
   "id": "521f2bb9-6f9e-4f9a-bc55-007274e63aff",
   "metadata": {},
   "source": [
    "##### Plot linear and angular velocity commands\n",
    "This is the data we use as an input of our motion model"
   ]
  },
  {
   "cell_type": "code",
   "execution_count": null,
   "id": "c03ff48d-45b9-4f24-9c0d-48bbcf43bc0d",
   "metadata": {},
   "outputs": [],
   "source": [
    "sns.set_context(\"paper\")\n",
    "fig, axs = plt.subplots(3, 1, figsize=[10,8])\n",
    "sns.lineplot(data=self.motion, x=\"stamp\", y=\"v\", ax=axs[0], linewidth=0.5)\n",
    "sns.lineplot(data=self.motion, x=\"stamp\", y=\"omega\", ax=axs[1], linewidth=0.5)\n",
    "sns.lineplot(data=self.motion, x=\"stamp\", y=\"v\", ax=axs[2], linewidth=0.5)\n",
    "sns.lineplot(data=self.motion, x=\"stamp\", y=\"omega\", ax=axs[2], linewidth=0.5)\n",
    "plt.show()"
   ]
  },
  {
   "cell_type": "markdown",
   "id": "cd2c0f38-be9a-4f28-9762-4b434eb42399",
   "metadata": {},
   "source": [
    "##### Compare with groundtruth"
   ]
  },
  {
   "cell_type": "code",
   "execution_count": null,
   "id": "8d413c53-04d0-4dea-be50-1dff22926ec5",
   "metadata": {},
   "outputs": [],
   "source": [
    "# Generate groundtruth speeds from GT for comparison\n",
    "self.motion_gt = self.motion.join(self.gt).dropna()\n",
    "self.motion_gt['dx'] = self.motion_gt['x'].diff()\n",
    "self.motion_gt['dy'] = self.motion_gt['y'].diff()\n",
    "self.motion_gt['dtheta'] = self.motion_gt['theta'].diff()\n",
    "self.motion_gt['dt'] = self.motion_gt.index.to_series().diff().dt.total_seconds()\n",
    "self.motion_gt['v_gt'] = np.linalg.norm([self.motion_gt['dx'],self.motion_gt['dy']],axis=0)/self.motion_gt['dt']\n",
    "self.motion_gt['omega_gt'] = self.motion_gt['dtheta']/self.motion_gt['dt']\n",
    "self.motion_gt.head()"
   ]
  },
  {
   "cell_type": "code",
   "execution_count": null,
   "id": "4ba8ca91-f867-4750-9e8b-79db68e3e3bc",
   "metadata": {},
   "outputs": [],
   "source": [
    "# Plot commands and GT velocities\n",
    "self.motion_gt = self.motion_gt.dropna()\n",
    "fig, axs = plt.subplots(2, 1, figsize=[10,6])\n",
    "sns.lineplot(data=self.motion_gt, x=\"stamp\", y=\"v\", ax=axs[0], linewidth=0.5)\n",
    "sns.lineplot(data=self.motion_gt, x=\"stamp\", y=\"v_gt\", ax=axs[0], linewidth=0.5)\n",
    "sns.lineplot(data=self.motion_gt, x=\"stamp\", y=\"omega\", ax=axs[1], linewidth=0.5)\n",
    "sns.lineplot(data=self.motion_gt, x=\"stamp\", y=\"omega_gt\", ax=axs[1], linewidth=0.5)\n",
    "plt.show()"
   ]
  },
  {
   "cell_type": "code",
   "execution_count": null,
   "id": "837017c2-44bb-4d0e-b66b-62fc253e0974",
   "metadata": {},
   "outputs": [],
   "source": [
    "# Get error\n",
    "self.motion_gt['v_e'] = np.power(self.motion_gt['v_gt'] - self.motion_gt['v'],2)\n",
    "self.motion_gt['omega_e'] =  np.power(self.motion_gt['omega_gt'] - self.motion_gt['omega'],2)\n",
    "\n",
    "fig, axs = plt.subplots(2, 1, figsize=[10,6])\n",
    "sns.lineplot(data=self.motion_gt, x=\"stamp\", y=\"v_e\", ax=axs[0], linewidth=0.5)\n",
    "sns.lineplot(data=self.motion_gt, x=\"stamp\", y=\"omega_e\", ax=axs[1], linewidth=0.5)\n"
   ]
  },
  {
   "cell_type": "markdown",
   "id": "292585f2-020f-4e01-80ef-a448dc006a7b",
   "metadata": {
    "tags": []
   },
   "source": [
    "### TASK 2. Estimate localization with dead reckoning\n",
    "\n",
    "The objective of this task is getting a localization estimate by dead reckoning, and compare the obtained result with the groundtruth using three different error metrics.\n",
    "\n",
    "Please review what the self.run() function does this is the function we executed at the begining of the notebook. Then postproces the obtained estimation and analize the quality of it. "
   ]
  },
  {
   "cell_type": "code",
   "execution_count": null,
   "id": "c1e03c9e-9253-4897-b0a4-629b638a4663",
   "metadata": {},
   "outputs": [],
   "source": [
    "self.measurements.head()"
   ]
  },
  {
   "cell_type": "code",
   "execution_count": null,
   "id": "81474546",
   "metadata": {},
   "outputs": [],
   "source": [
    "self.states.head()"
   ]
  },
  {
   "cell_type": "code",
   "execution_count": null,
   "id": "e9d15a5d",
   "metadata": {},
   "outputs": [],
   "source": [
    "self.gt.head()"
   ]
  },
  {
   "cell_type": "code",
   "execution_count": null,
   "id": "92a0ff9e-3308-4cd2-84cc-621341466f5d",
   "metadata": {},
   "outputs": [],
   "source": [
    "data = self.states.join(self.gt,rsuffix='_gt').dropna()\n",
    "data.head()"
   ]
  },
  {
   "cell_type": "markdown",
   "id": "33e2eaae-4a21-4558-bd83-043aaf5c40ff",
   "metadata": {},
   "source": [
    "#### Absolute Trajectory Error (ATE)\n"
   ]
  },
  {
   "cell_type": "code",
   "execution_count": null,
   "id": "cb3e2bcc",
   "metadata": {},
   "outputs": [],
   "source": []
  },
  {
   "cell_type": "markdown",
   "id": "85d9ca9c-c8e5-40bf-8acd-c3241c6cc9f2",
   "metadata": {},
   "source": [
    "### TASK 3. Iterate over diferent datasets\n",
    "Here we are interested on executing multiple experiments using different robots and datasets and get the three error metrics from previous blocks for all the experiments and enable further analisis of this errors.\n",
    "\n",
    "The iterative execution of different experiments will enable as to compare different localization algorithms on further lab sessions."
   ]
  },
  {
   "cell_type": "markdown",
   "id": "d88bfe6e-a84e-47fd-9752-5e118d09278f",
   "metadata": {},
   "source": [
    "#### Generate metrics"
   ]
  },
  {
   "cell_type": "code",
   "execution_count": null,
   "id": "17ee681b-d8a1-4cc4-91ad-39dce4ea61a5",
   "metadata": {},
   "outputs": [],
   "source": [
    "datasets = [\"../data/MRCLAM_Dataset1\",\n",
    "            \"../data/MRCLAM_Dataset2\",\n",
    "            \"../data/MRCLAM_Dataset3\",\n",
    "            \"../data/MRCLAM_Dataset4\"]\n",
    "robots = ['Robot1',\n",
    "          'Robot2',\n",
    "          'Robot3',\n",
    "          'Robot4']\n",
    "\n",
    "errors = pd.DataFrame(columns=['dataset','robot','ate'])\n",
    "\n",
    "#for ds in datasets:\n",
    "   #for rob in robots:\n",
    "        # Load data\n",
    "        \n",
    "        # Get the error"
   ]
  },
  {
   "cell_type": "markdown",
   "id": "47201d90-0c4d-4a15-b38f-1ef58babda02",
   "metadata": {
    "tags": []
   },
   "source": [
    "#### Represent metrics"
   ]
  },
  {
   "cell_type": "code",
   "execution_count": null,
   "id": "96052ee0-3a9e-431e-a487-284c5aaa223d",
   "metadata": {},
   "outputs": [],
   "source": [
    "# Represent metrics for all experiments"
   ]
  },
  {
   "cell_type": "markdown",
   "id": "79ac5360-e20a-4c45-9104-486dc5c1b246",
   "metadata": {},
   "source": [
    "#### Analize metrics"
   ]
  },
  {
   "cell_type": "code",
   "execution_count": null,
   "id": "c74ee518-a4b1-4ee5-a07d-de75edbb8e7e",
   "metadata": {},
   "outputs": [],
   "source": [
    "# Analize the results and provide the mean error metrics across the experiments performed."
   ]
  }
 ],
 "metadata": {
  "kernelspec": {
   "display_name": "Python 3 (ipykernel)",
   "language": "python",
   "name": "python3"
  },
  "language_info": {
   "codemirror_mode": {
    "name": "ipython",
    "version": 3
   },
   "file_extension": ".py",
   "mimetype": "text/x-python",
   "name": "python",
   "nbconvert_exporter": "python",
   "pygments_lexer": "ipython3",
   "version": "3.10.12"
  }
 },
 "nbformat": 4,
 "nbformat_minor": 5
}
