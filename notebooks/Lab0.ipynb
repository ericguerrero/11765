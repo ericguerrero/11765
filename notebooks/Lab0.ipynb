{
 "cells": [
  {
   "cell_type": "markdown",
   "id": "6b23ca5b-a3f6-4370-b0df-c033b93e0313",
   "metadata": {},
   "source": [
    "# L0. Introduction"
   ]
  },
  {
   "cell_type": "markdown",
   "id": "ce350074-8201-42b2-b2c6-8bd060551d5b",
   "metadata": {},
   "source": [
    "### Define all the imports"
   ]
  },
  {
   "cell_type": "code",
   "execution_count": null,
   "id": "cdae4aff-aeca-4705-aa60-246ab564231c",
   "metadata": {},
   "outputs": [],
   "source": [
    "import os\n",
    "import sys\n",
    "import numpy as np\n",
    "import pandas as pd\n",
    "import matplotlib.pyplot as plt\n",
    "import seaborn as sns\n",
    "\n",
    "# Change to main repo folder for the imports\n",
    "_, dir = os.path.split(os.getcwd())\n",
    "if dir == 'notebooks': \n",
    "    os.chdir('..')\n",
    "    sys.path.append(os.getcwd())\n",
    "# Ignore warnings from pandas\n",
    "pd.set_option('mode.chained_assignment', None)"
   ]
  },
  {
   "cell_type": "code",
   "execution_count": null,
   "id": "4825593e-aafb-480a-8e8c-0de32754c55b",
   "metadata": {},
   "outputs": [],
   "source": [
    "from src.data.reader import Reader"
   ]
  },
  {
   "cell_type": "markdown",
   "id": "7df8d90f-f4e9-4006-8466-8ceb956831c3",
   "metadata": {},
   "source": [
    "### Define new Functions"
   ]
  },
  {
   "cell_type": "code",
   "execution_count": null,
   "id": "9e7ecb40-3750-4713-ab74-7c24cac6fa40",
   "metadata": {},
   "outputs": [],
   "source": [
    "def build_timeseries(data,cols):\n",
    "    timeseries = pd.DataFrame(data, columns=cols)\n",
    "    timeseries['stamp'] = pd.to_datetime(timeseries['stamp'], unit='s')\n",
    "    timeseries = timeseries.set_index('stamp')\n",
    "    return timeseries"
   ]
  },
  {
   "cell_type": "code",
   "execution_count": null,
   "id": "c398f4d4-f669-41e3-b95e-71fc2f4cb487",
   "metadata": {},
   "outputs": [],
   "source": [
    "def filter_static_landmarks(lm, barcodes):\n",
    "    for L,l in dict(barcodes).items(): # Translate barcode num to landmark num\n",
    "        lm[lm==l]=L\n",
    "    lm = lm[lm.type > 5] # Keep only static landmarks \n",
    "    return lm "
   ]
  },
  {
   "cell_type": "markdown",
   "id": "40d985f3-133e-4e87-95a1-06c78ae54b3c",
   "metadata": {},
   "source": [
    "The previous block is for defining specific notebook functions"
   ]
  },
  {
   "cell_type": "markdown",
   "id": "e12d05ca-f5da-4601-a7af-e29da7d722df",
   "metadata": {},
   "source": [
    "### Load a dataset"
   ]
  },
  {
   "cell_type": "code",
   "execution_count": null,
   "id": "4ccda4d6-b272-4272-949a-711762c9ce17",
   "metadata": {},
   "outputs": [],
   "source": [
    "# Define dataset to read\n",
    "dataset = \"data/MRCLAM_Dataset1\" # Dataset\n",
    "end_frame = 50000 # Extension of the dataset\n",
    "robot = 'Robot5' # Robot\n",
    "\n",
    "# Reader. Go to the src directory using VScode and inspect the class methods\n",
    "self = Reader(dataset, robot, end_frame)"
   ]
  },
  {
   "cell_type": "markdown",
   "id": "1c85983f-5b91-47fc-a448-b707c4ed6de2",
   "metadata": {},
   "source": [
    "### Generate some representations"
   ]
  },
  {
   "cell_type": "code",
   "execution_count": null,
   "id": "58a89f6c-9bd7-4643-93a4-b9232d146790",
   "metadata": {},
   "outputs": [],
   "source": [
    "# Ground truth data\n",
    "plt.plot(self.groundtruth_data[:, 1], self.groundtruth_data[:, 2], 'b', label=\"Robot State Ground truth\")\n",
    "\n",
    "# Start and end points\n",
    "plt.plot(self.groundtruth_data[0, 1], self.groundtruth_data[0, 2], 'gx', label=\"Start point\")\n",
    "plt.plot(self.groundtruth_data[-1, 1], self.groundtruth_data[-1, 2], 'rx', label=\"End point\")\n",
    "\n",
    "# Landmark ground truth locations and indexes\n",
    "landmark_xs = []\n",
    "landmark_ys = []\n",
    "for location in self.landmark_locations:\n",
    "    landmark_xs.append(self.landmark_locations[location][0])\n",
    "    landmark_ys.append(self.landmark_locations[location][1])\n",
    "    index = self.landmark_indexes[location] + 5\n",
    "    plt.text(landmark_xs[-1], landmark_ys[-1], str(index), alpha=0.5, fontsize=10)\n",
    "plt.scatter(landmark_xs, landmark_ys, s=200, c='k', alpha=0.2, marker='*', label='Landmark Locations')\n",
    "\n",
    "plt.title(\"Robot Groundtruth and Map\")\n",
    "plt.legend(bbox_to_anchor=(1.05, 1), loc=2, borderaxespad=0.)\n",
    "plt.show()"
   ]
  },
  {
   "cell_type": "markdown",
   "id": "05050b71-2592-4c7d-b253-4ed69c621591",
   "metadata": {
    "tags": []
   },
   "source": [
    "### TASK EXAMPLE. Represent landmark measurments"
   ]
  },
  {
   "cell_type": "markdown",
   "id": "89f02b81-6123-429c-8df3-3c3fa952327c",
   "metadata": {},
   "source": [
    "#### Import data into pandas dataframes"
   ]
  },
  {
   "cell_type": "code",
   "execution_count": null,
   "id": "7e4e06d0-8ed4-4aa8-a20c-9e259d520035",
   "metadata": {},
   "outputs": [],
   "source": [
    "# Build dataframes\n",
    "groundtruth = build_timeseries(self.groundtruth_data, cols=['stamp','x','y','theta'])\n",
    "measurements = build_timeseries(self.data, cols=['stamp','type','range_l','bearing_l'])\n",
    "odometry = measurements[measurements.type == -1].rename(columns={'range_l': 'v', 'bearing_l': 'omega'})\n",
    "landmarks = measurements[measurements.type != -1]\n",
    "landmarks = filter_static_landmarks(landmarks, self.barcodes_data)\n",
    "\n",
    "\n"
   ]
  },
  {
   "cell_type": "code",
   "execution_count": null,
   "id": "d4139517-f9d3-48e2-be6f-6d1ccec22f58",
   "metadata": {},
   "outputs": [],
   "source": [
    "groundtruth.head(10)"
   ]
  },
  {
   "cell_type": "code",
   "execution_count": null,
   "id": "0ca93a4a-71ec-4a1c-a8c4-ca5ac91527f6",
   "metadata": {},
   "outputs": [],
   "source": [
    "odometry.head()"
   ]
  },
  {
   "cell_type": "code",
   "execution_count": null,
   "id": "f6170ffc-c67b-4c19-bead-44461bd7329e",
   "metadata": {},
   "outputs": [],
   "source": [
    "landmarks.head()"
   ]
  },
  {
   "cell_type": "markdown",
   "id": "fec8d280-747f-44ae-bac5-6146016aa62d",
   "metadata": {},
   "source": [
    "#### Transform landmark measurements to global coordinates\n",
    "Join dataframes (link observations to particular GT locations)"
   ]
  },
  {
   "cell_type": "code",
   "execution_count": null,
   "id": "a693ae84-f113-43ef-bbde-aed301e9351d",
   "metadata": {},
   "outputs": [],
   "source": [
    "data = landmarks.join(groundtruth).dropna()\n",
    "data.head()"
   ]
  },
  {
   "cell_type": "markdown",
   "id": "7140b1ef-c2ec-4eff-8b5c-7e196782671f",
   "metadata": {},
   "source": [
    "Transform distance and bearing to global coordinates"
   ]
  },
  {
   "cell_type": "code",
   "execution_count": null,
   "id": "6d836752-3d50-4d07-ad97-6eeff6e18ca8",
   "metadata": {},
   "outputs": [],
   "source": [
    "range_l = data.range_l\n",
    "bearing_l = data.bearing_l\n",
    "x_t = data.x\n",
    "y_t =  data.y\n",
    "theta_t = data.theta\n",
    "\n",
    "x = range_l*np.cos(bearing_l)\n",
    "y = range_l*np.sin(bearing_l)\n",
    "\n",
    "data['x_l'] = x_t + x*np.cos(theta_t) - y*np.sin(theta_t)\n",
    "data['y_l'] = y_t + x*np.sin(theta_t) + y*np.cos(theta_t)\n",
    "data.head()"
   ]
  },
  {
   "cell_type": "markdown",
   "id": "07b5a6a9-d3ce-45b2-9300-f6a6e6dd308b",
   "metadata": {},
   "source": [
    "#### Represent measurements on top of our known map"
   ]
  },
  {
   "cell_type": "code",
   "execution_count": null,
   "id": "48198578-0acf-4821-a51a-1407fe78cc2b",
   "metadata": {},
   "outputs": [],
   "source": [
    "# REPRESENT\n",
    "# Measurements (New added function)\n",
    "num_landmarks = len(landmarks.type.unique())\n",
    "sns.scatterplot(data,x=\"x_l\",y=\"y_l\", hue=\"type\", palette=sns.color_palette(\"husl\", num_landmarks),legend=False)    \n",
    "\n",
    "# Ground truth data\n",
    "plt.plot(self.groundtruth_data[:, 1], self.groundtruth_data[:, 2], 'b', label=\"Robot State Ground truth\")\n",
    "\n",
    "# Start and end points\n",
    "plt.plot(self.groundtruth_data[0, 1], self.groundtruth_data[0, 2], 'gx', label=\"Start point\")\n",
    "plt.plot(self.groundtruth_data[-1, 1], self.groundtruth_data[-1, 2], 'rx', label=\"End point\")\n",
    "\n",
    "# Landmark ground truth locations and indexes\n",
    "landmark_xs = []\n",
    "landmark_ys = []\n",
    "for location in self.landmark_locations:\n",
    "    landmark_xs.append(self.landmark_locations[location][0])\n",
    "    landmark_ys.append(self.landmark_locations[location][1])\n",
    "    index = self.landmark_indexes[location] + 5\n",
    "    plt.text(landmark_xs[-1], landmark_ys[-1], str(index), alpha=0.5, fontsize=10)\n",
    "plt.scatter(landmark_xs, landmark_ys, s=200, c='k', alpha=0.2, marker='*', label='Landmark Locations')\n",
    "\n",
    "# plt.title(\"Localization with only odometry data\")\n",
    "plt.title(\"Robot GT, Map and Absolute Measurements\")\n",
    "plt.legend(bbox_to_anchor=(1.05, 1), loc=2, borderaxespad=0.)\n",
    "plt.show()"
   ]
  },
  {
   "cell_type": "markdown",
   "id": "292585f2-020f-4e01-80ef-a448dc006a7b",
   "metadata": {
    "tags": []
   },
   "source": [
    "### TASK 1. Get dataset specifications"
   ]
  },
  {
   "cell_type": "markdown",
   "id": "33e2eaae-4a21-4558-bd83-043aaf5c40ff",
   "metadata": {},
   "source": [
    "#### Get path length\n",
    "Sum displacements from the GT"
   ]
  },
  {
   "cell_type": "code",
   "execution_count": null,
   "id": "6ad9cc1f-44fa-474f-bb32-30e6f599118d",
   "metadata": {},
   "outputs": [],
   "source": [
    "       \n"
   ]
  },
  {
   "cell_type": "markdown",
   "id": "89eff025-654d-42d4-b907-628668007800",
   "metadata": {},
   "source": [
    "#### Get duration"
   ]
  },
  {
   "cell_type": "code",
   "execution_count": null,
   "id": "50dbf066-0c80-4e77-8499-fceb1b058f9f",
   "metadata": {},
   "outputs": [],
   "source": []
  },
  {
   "cell_type": "markdown",
   "id": "9ec64279-240c-4b84-b9bf-ef104ea9f281",
   "metadata": {},
   "source": [
    "#### Get number of landmark measurements"
   ]
  },
  {
   "cell_type": "code",
   "execution_count": null,
   "id": "bf232b64-98a4-44b0-8466-b145321bdd7b",
   "metadata": {},
   "outputs": [],
   "source": []
  },
  {
   "cell_type": "markdown",
   "id": "78857cf0-bde0-48e3-b277-0f4c89027c8b",
   "metadata": {},
   "source": [
    "#### Get distance between initial and end positions"
   ]
  },
  {
   "cell_type": "code",
   "execution_count": null,
   "id": "63481cba-d9ef-4da4-bdc7-632aa8d5be78",
   "metadata": {},
   "outputs": [],
   "source": []
  },
  {
   "cell_type": "markdown",
   "id": "64465bc5-849f-4fd7-bfbb-958a4d933f44",
   "metadata": {},
   "source": [
    "#### Measurements density \n",
    "Mean number of measures per unit of distance"
   ]
  },
  {
   "cell_type": "markdown",
   "id": "3a9f0669-ad8e-4ccf-9405-d3ff83276742",
   "metadata": {},
   "source": []
  },
  {
   "cell_type": "markdown",
   "id": "85d9ca9c-c8e5-40bf-8acd-c3241c6cc9f2",
   "metadata": {},
   "source": [
    "### TASK 2. Iterate over diferent datasets\n"
   ]
  },
  {
   "cell_type": "markdown",
   "id": "d88bfe6e-a84e-47fd-9752-5e118d09278f",
   "metadata": {},
   "source": [
    "#### Generate metrics"
   ]
  },
  {
   "cell_type": "code",
   "execution_count": null,
   "id": "17ee681b-d8a1-4cc4-91ad-39dce4ea61a5",
   "metadata": {},
   "outputs": [],
   "source": [
    "datasets = [\"../data/MRCLAM_Dataset1\",\n",
    "            \"../data/MRCLAM_Dataset2\",\n",
    "            \"../data/MRCLAM_Dataset3\",\n",
    "            \"../data/MRCLAM_Dataset4\"]\n",
    "robots = ['Robot1',\n",
    "          'Robot2',\n",
    "          'Robot3',\n",
    "          'Robot4']\n",
    "\n",
    "metrics = pd.Dataframe(columns=['dataset','robot','length','duration','n_landmarks','distance','m_density'])\n",
    "\n",
    "#for ds in datasets:\n",
    "    #for rob in robots:\n",
    "        # Load data\n",
    "        \n",
    "        # Get metrics"
   ]
  },
  {
   "cell_type": "markdown",
   "id": "47201d90-0c4d-4a15-b38f-1ef58babda02",
   "metadata": {
    "tags": []
   },
   "source": [
    "#### Represent metrics\n",
    "Use seaborn library (catplot)"
   ]
  },
  {
   "cell_type": "code",
   "execution_count": null,
   "id": "96052ee0-3a9e-431e-a487-284c5aaa223d",
   "metadata": {},
   "outputs": [],
   "source": [
    "# Represent metrics for all datasets"
   ]
  },
  {
   "cell_type": "markdown",
   "id": "79ac5360-e20a-4c45-9104-486dc5c1b246",
   "metadata": {},
   "source": [
    "#### Analize metrics"
   ]
  },
  {
   "cell_type": "code",
   "execution_count": null,
   "id": "c74ee518-a4b1-4ee5-a07d-de75edbb8e7e",
   "metadata": {},
   "outputs": [],
   "source": [
    "# Analize the results and select three datasets with different 'distance','m_density' for the next lab sessions."
   ]
  }
 ],
 "metadata": {
  "kernelspec": {
   "display_name": "Python 3 (ipykernel)",
   "language": "python",
   "name": "python3"
  },
  "language_info": {
   "codemirror_mode": {
    "name": "ipython",
    "version": 3
   },
   "file_extension": ".py",
   "mimetype": "text/x-python",
   "name": "python",
   "nbconvert_exporter": "python",
   "pygments_lexer": "ipython3",
   "version": "3.10.12"
  }
 },
 "nbformat": 4,
 "nbformat_minor": 5
}
