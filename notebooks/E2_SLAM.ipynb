{
 "cells": [
  {
   "cell_type": "markdown",
   "id": "6b23ca5b-a3f6-4370-b0df-c033b93e0313",
   "metadata": {},
   "source": [
    "# E2. SLAM"
   ]
  },
  {
   "cell_type": "markdown",
   "id": "ce350074-8201-42b2-b2c6-8bd060551d5b",
   "metadata": {
    "tags": []
   },
   "source": [
    "### Define all the imports\n",
    "Import all the dependencies required to launch the notebook"
   ]
  },
  {
   "cell_type": "code",
   "execution_count": null,
   "id": "f60f293c-eee8-4fb0-92a9-cc00a5522cf6",
   "metadata": {},
   "outputs": [],
   "source": [
    "# Import main dependencies\n",
    "import sys\n",
    "import os\n",
    "import numpy as np\n",
    "import pandas as pd\n",
    "import matplotlib.pyplot as plt\n",
    "import seaborn as sns"
   ]
  },
  {
   "cell_type": "code",
   "execution_count": null,
   "id": "5addecc1-5286-416b-a4af-766649e34064",
   "metadata": {},
   "outputs": [],
   "source": [
    "# Change to main repo folder for the imports\n",
    "_, dir = os.path.split(os.getcwd())\n",
    "if dir == 'notebooks': \n",
    "    os.chdir('..')\n",
    "    sys.path.append(os.getcwd())\n",
    "# Ignore warnings from pandas\n",
    "pd.set_option('mode.chained_assignment', None)"
   ]
  },
  {
   "cell_type": "code",
   "execution_count": null,
   "id": "4825593e-aafb-480a-8e8c-0de32754c55b",
   "metadata": {},
   "outputs": [],
   "source": [
    "# Import methods from our local library\n",
    "from src.EKF_SLAM.EKF_SLAM_known_correspondences import ExtendedKalmanFilterSLAM as EKF_SLAM_known\n",
    "from src.EKF_SLAM.EKF_SLAM_unknown_correspondences import ExtendedKalmanFilterSLAM as EKF_SLAM_unknown\n",
    "\n",
    "from src.fast_SLAM_1.Fast_SLAM_1_known_correspondences import FastSLAM1 as FastSLAM\n",
    "from src.fast_SLAM_1.lib import MotionModel as FS_MotionModel\n",
    "from src.fast_SLAM_1.lib import MeasurementModel as FS_MeasurementModel\n",
    "\n",
    "from src.graph_SLAM.Graph_SLAM_known_correspondences import GraphSLAM"
   ]
  },
  {
   "cell_type": "markdown",
   "id": "e12d05ca-f5da-4601-a7af-e29da7d722df",
   "metadata": {
    "tags": []
   },
   "source": [
    "### Set dataset"
   ]
  },
  {
   "cell_type": "code",
   "execution_count": null,
   "id": "d5108eaa-c5e1-42e0-8908-fc013c52f09d",
   "metadata": {},
   "outputs": [],
   "source": [
    "# Define dataset to read\n",
    "dataset = \"data/MRCLAM_Dataset1\"\n",
    "robot = 'Robot3' # Robot\n",
    "start_frame = 2000\n",
    "end_frame = 6000"
   ]
  },
  {
   "cell_type": "markdown",
   "id": "90e10fa1",
   "metadata": {
    "tags": []
   },
   "source": [
    "### T1. EKF SLAM\n",
    "Review the EKF_SLAM() method, execute the EKF SLAM of the next code blocks and answer the questions"
   ]
  },
  {
   "cell_type": "code",
   "execution_count": null,
   "id": "e3605efe",
   "metadata": {},
   "outputs": [],
   "source": []
  },
  {
   "cell_type": "markdown",
   "id": "a2d8682b",
   "metadata": {},
   "source": [
    "#### EKF SLAM with unknown correspondences"
   ]
  },
  {
   "cell_type": "code",
   "execution_count": null,
   "id": "5e5ba578",
   "metadata": {
    "scrolled": true
   },
   "outputs": [],
   "source": [
    "# State covariance matrix\n",
    "R = np.diagflat(np.array([5.0, 5.0, 100.0])) ** 2\n",
    "# Measurement covariance matrix\n",
    "Q = np.diagflat(np.array([300.0, 300.0, 1e16])) ** 2\n",
    "ekf_slam_unknown = EKF_SLAM_unknown(dataset, robot, start_frame, end_frame, R, Q, plot=True, plot_inter=True)"
   ]
  },
  {
   "cell_type": "markdown",
   "id": "fcb953a5",
   "metadata": {},
   "source": [
    "#### EKF SLAM with known correspondences"
   ]
  },
  {
   "cell_type": "code",
   "execution_count": null,
   "id": "6d84313d",
   "metadata": {},
   "outputs": [],
   "source": [
    "# State covariance matrix\n",
    "R = np.diagflat(np.array([5.0, 5.0, 100.0])) ** 2\n",
    "# Measurement covariance matrix\n",
    "Q = np.diagflat(np.array([300.0, 300.0, 1e16])) ** 2\n",
    "ekf_slam_known = EKF_SLAM_known(dataset, robot, start_frame, end_frame, R, Q, plot=True, plot_inter=True)"
   ]
  },
  {
   "cell_type": "markdown",
   "id": "7e51f49e",
   "metadata": {},
   "source": [
    "**T11** What is the main consequence of having known or unkown correspondences? Why and how would you tell from above results?"
   ]
  },
  {
   "cell_type": "markdown",
   "id": "7d0c204d",
   "metadata": {},
   "source": [
    "(Answer here max 150 words)"
   ]
  },
  {
   "cell_type": "markdown",
   "id": "dde7851c",
   "metadata": {},
   "source": [
    "**T12** Which type of SLAM problem is solving the EKF SLAM method? Online or full? Why and how would you tell from above results?"
   ]
  },
  {
   "cell_type": "markdown",
   "id": "8d088ad4",
   "metadata": {},
   "source": [
    "(Answer here max 150 words)"
   ]
  },
  {
   "cell_type": "markdown",
   "id": "0203f3a6",
   "metadata": {},
   "source": [
    "**T13** Could you describe what happens after a loop closure is detected?"
   ]
  },
  {
   "cell_type": "markdown",
   "id": "9bf0b9d7",
   "metadata": {},
   "source": [
    "(Answer here max 150 words)"
   ]
  },
  {
   "cell_type": "markdown",
   "id": "6f71c5d6-3b45-4d02-b2c1-1348f7cdd295",
   "metadata": {},
   "source": [
    "**T14** Which are the biggest limitations and advantages of the EKF SLAM? Justify your answer based on your lab results."
   ]
  },
  {
   "cell_type": "markdown",
   "id": "be202eb9-69c5-4f62-b8e0-9c36addac123",
   "metadata": {},
   "source": [
    "(Answer here max 300 words)"
   ]
  },
  {
   "cell_type": "markdown",
   "id": "34683515",
   "metadata": {
    "tags": []
   },
   "source": [
    "### T2. FAST SLAM\n",
    "Review the FastSLAM() method, execute the FAST SLAM of the next code block, and answer the questions below:"
   ]
  },
  {
   "cell_type": "code",
   "execution_count": null,
   "id": "2be97775",
   "metadata": {},
   "outputs": [],
   "source": [
    "# Initialize Motion Model object\n",
    "# Motion noise (in meters / rad)\n",
    "# [noise_x, noise_y, noise_theta, noise_v, noise_w]\n",
    "# Fisrt three are used for initializing particles\n",
    "# Last two are used for motion update\n",
    "motion_noise = np.array([0.0, 0.0, 0.0, 0.1, 0.15])\n",
    "motion_model = FS_MotionModel(motion_noise)\n",
    "\n",
    "# Initialize Measurement Model object\n",
    "# Measurement covariance matrix\n",
    "Q = np.diagflat(np.array([0.05, 0.02])) ** 2\n",
    "measurement_model = FS_MeasurementModel(Q)\n",
    "\n",
    "# Initialize SLAM algorithm\n",
    "# Number of particles\n",
    "N_particles = 100\n",
    "\n",
    "fast_slam = FastSLAM(motion_model, measurement_model)\n",
    "fast_slam.load_data(dataset, robot, start_frame, end_frame)\n",
    "fast_slam.initialization(N_particles)\n",
    "\n",
    "# Run full Fast SLAM 1.0 algorithm\n",
    "for data in fast_slam.data:\n",
    "    if (data[1] == -1):\n",
    "        fast_slam.robot_update(data)\n",
    "    else:\n",
    "        fast_slam.landmark_update(data)\n",
    "    fast_slam.state_update()\n",
    "\n",
    "fast_slam.plot_data()\n",
    "plt.show()"
   ]
  },
  {
   "cell_type": "markdown",
   "id": "70fad8c2",
   "metadata": {},
   "source": [
    "**T2.1** The Fast SLAM implementation executed above iteratively executes the functions robot_update(), landmark_update() and state_update(). Could you specify, the goal of each of the functions?"
   ]
  },
  {
   "cell_type": "markdown",
   "id": "80566b4b",
   "metadata": {},
   "source": [
    "(Answer here max 150 words)"
   ]
  },
  {
   "cell_type": "markdown",
   "id": "4b0ec5d3",
   "metadata": {},
   "source": [
    "**T2.2** The Fast SLAM algorithm method inputs a measurement_model. Could you describe the model and the purpose of it?"
   ]
  },
  {
   "cell_type": "markdown",
   "id": "d4bc0683",
   "metadata": {
    "tags": []
   },
   "source": [
    "(Answer here max 150 words)"
   ]
  },
  {
   "cell_type": "markdown",
   "id": "be075f71-565e-4d84-9098-dc421244340c",
   "metadata": {},
   "source": [
    "**T2.3** Which is the main assumption of Fast SLAM algorithms?"
   ]
  },
  {
   "cell_type": "markdown",
   "id": "c0750b73-8d6b-4448-895f-52c3b10b454b",
   "metadata": {
    "tags": []
   },
   "source": [
    "(Answer here max 150 words)"
   ]
  },
  {
   "cell_type": "markdown",
   "id": "bf713b0d-e1c9-4c0a-991c-713a0e57827f",
   "metadata": {
    "tags": []
   },
   "source": [
    "### T3. Graph SLAM\n",
    "Review the GraphSLAM() method, execute the Graph SLAM of the next code block, and answer the questions below:"
   ]
  },
  {
   "cell_type": "code",
   "execution_count": null,
   "id": "a1ec41ee-75b2-4bb1-9dd1-85d4ee3ccbd0",
   "metadata": {},
   "outputs": [],
   "source": [
    "# State covariance matrix\n",
    "R = np.diagflat(np.array([5, 5, 20])) ** 2\n",
    "# Measurement covariance matrix\n",
    "Q = np.diagflat(np.array([100.0, 100.0, 1e16])) ** 2\n",
    "# Iterations\n",
    "n = 4\n",
    "\n",
    "graph_slam = GraphSLAM(dataset, robot, start_frame, end_frame, n, R, Q, plot=True)\n",
    "plt.show()"
   ]
  },
  {
   "cell_type": "markdown",
   "id": "b79d9fd6-1404-4b77-a10f-de6367629304",
   "metadata": {},
   "source": [
    "**T3.1** Which type of SLAM problem is solving the Graph SLAM method executed above? Online or full? Why and how would you tell from above results?"
   ]
  },
  {
   "cell_type": "markdown",
   "id": "3ad270a0-8464-4335-b110-d703321fa07a",
   "metadata": {},
   "source": [
    "(Answer here max 150 words)"
   ]
  },
  {
   "cell_type": "markdown",
   "id": "895152fa-0968-4766-9b49-adfde1c45fa2",
   "metadata": {},
   "source": [
    "**T3.2** The main functions of the GraphSLAM() implementation executed above are: motion_update(), linearize(), reduce() and solve(). Justify for each function if you would associate it with the front-end or with the back-end."
   ]
  },
  {
   "cell_type": "markdown",
   "id": "5dc4c24e-e752-4f86-b68d-64e56f62c780",
   "metadata": {
    "tags": []
   },
   "source": [
    "(Answer here max 150 words)"
   ]
  },
  {
   "cell_type": "markdown",
   "id": "3056d344-2edc-4410-a320-a62f88cb20f0",
   "metadata": {},
   "source": [
    "**T3.3** The GraphSLAM() implementation executed above shows a very poor performance in terms of computation. How would you improve the efficiency of the implementation?"
   ]
  },
  {
   "cell_type": "markdown",
   "id": "bed65077-9222-4b87-af28-0701ac0484b3",
   "metadata": {
    "tags": []
   },
   "source": [
    "(Answer here max 150 words)"
   ]
  },
  {
   "cell_type": "markdown",
   "id": "b09e90c0",
   "metadata": {
    "tags": []
   },
   "source": [
    "### T4. Benchmark EKF, Fast and Graph SLAM\n",
    "Compare the EKF, Fast and Graph SLAM using different datasets. For the comparison use the metrics introducced in previous lab sessions. \n",
    "\n",
    "The objective of this task is to be able to determine the SLAM algorithm that provides the best performance for the robot system of the pre-recorded datasets studied. In order to decide which model and configuration works best follow the next steps:\n",
    "1. Extract the metrics for each dataset and model configuaration.\n",
    "2. Represent the results in different types of plots that might be relevant for you to extract meaningful conclusions.\n",
    "3. Conclude the analysis."
   ]
  },
  {
   "cell_type": "markdown",
   "id": "d88bfe6e-a84e-47fd-9752-5e118d09278f",
   "metadata": {},
   "source": [
    "#### Extract metrics"
   ]
  },
  {
   "cell_type": "code",
   "execution_count": null,
   "id": "17ee681b-d8a1-4cc4-91ad-39dce4ea61a5",
   "metadata": {},
   "outputs": [],
   "source": []
  },
  {
   "cell_type": "markdown",
   "id": "47201d90-0c4d-4a15-b38f-1ef58babda02",
   "metadata": {
    "tags": []
   },
   "source": [
    "#### Represent metrics"
   ]
  },
  {
   "cell_type": "code",
   "execution_count": null,
   "id": "96052ee0-3a9e-431e-a487-284c5aaa223d",
   "metadata": {},
   "outputs": [],
   "source": []
  },
  {
   "cell_type": "markdown",
   "id": "79ac5360-e20a-4c45-9104-486dc5c1b246",
   "metadata": {},
   "source": [
    "#### Analize metrics\n",
    "**T4.1** Analize the representations, and extract some conclusions regarding the performance of each of SLAM implementation. In case we need to integrate a navigation algorithm based on SLAM to the robots used for recording the datasets, based on the results obtained which method would you use?\n"
   ]
  },
  {
   "cell_type": "markdown",
   "id": "a990c67a",
   "metadata": {},
   "source": [
    "(Answer here max 300 words)"
   ]
  },
  {
   "cell_type": "markdown",
   "id": "b2917039",
   "metadata": {},
   "source": [
    "**T4.2** Could you list the the three algorithms ordered in terms of robustness? Justify your answer."
   ]
  },
  {
   "cell_type": "markdown",
   "id": "55059414",
   "metadata": {},
   "source": [
    "(Answer here max 150 words)"
   ]
  },
  {
   "cell_type": "markdown",
   "id": "40c5f62f",
   "metadata": {
    "tags": []
   },
   "source": [
    "\n",
    "**Delivery Instructions:**\n",
    "\n",
    "1. 📂 Please download your work in both Notebook and Markdown formats. Simply navigate to: \n",
    "\n",
    "   - `File` > `Download as` > `Notebook`\n",
    "\n",
    "   - `File` > `Download as` > `Markdown`\n",
    "   \n",
    "\n",
    "2. 🗜 Once you have the necessary files and any associated figures, kindly compress them into a single .zip file. When naming your file, please use the format: **E2_FirstName_LastName.zip**.\n",
    "\n",
    "\n",
    "3. 📤 Finally, make sure to upload your .zip file to Aula Digital."
   ]
  }
 ],
 "metadata": {
  "kernelspec": {
   "display_name": "Python 3 (ipykernel)",
   "language": "python",
   "name": "python3"
  },
  "language_info": {
   "codemirror_mode": {
    "name": "ipython",
    "version": 3
   },
   "file_extension": ".py",
   "mimetype": "text/x-python",
   "name": "python",
   "nbconvert_exporter": "python",
   "pygments_lexer": "ipython3",
   "version": "3.10.12"
  }
 },
 "nbformat": 4,
 "nbformat_minor": 5
}
